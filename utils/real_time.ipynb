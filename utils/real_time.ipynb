{
 "cells": [
  {
   "cell_type": "code",
   "execution_count": 14,
   "metadata": {},
   "outputs": [
    {
     "data": {
      "text/plain": [
       "-1"
      ]
     },
     "execution_count": 14,
     "metadata": {},
     "output_type": "execute_result"
    }
   ],
   "source": [
    "import cv2\n",
    "import joblib\n",
    "import time\n",
    "\n",
    "color = (255, 0, 0)\n",
    "cap = cv2.VideoCapture(0)\n",
    "model = joblib.load(\"../weight/both eyes/best_random_forest_model.pkl\")\n",
    "class_names = ['Drowsy', 'Non Drowsy']\n",
    "\n",
    "# Inisialisasi variabel FPS\n",
    "fps_start_time = time.time()\n",
    "fps_counter = 0\n",
    "\n",
    "while (cap.isOpened()):\n",
    "    ret , frame = cap.read()\n",
    "    if ret:\n",
    "        eyes_roi = []\n",
    "        eyes = cv2.CascadeClassifier(r'github\\utils\\two_eyes_big.xml')\n",
    "        gray = cv2.cvtColor(frame, cv2.COLOR_BGR2GRAY)\n",
    "        eyes_detect = eyes.detectMultiScale(gray, scaleFactor=1.5, minNeighbors=3)\n",
    "\n",
    "        for (x, y, w, h) in eyes_detect:\n",
    "            face_roi = frame[y:y+h, x:x+w]\n",
    "            cv2.rectangle(frame, (x-5, y-5), (x + w+5, y + h+5), (0, 255, 0), 4)\n",
    "\n",
    "            convert = face_roi/255.0\n",
    "            mata = cv2.resize(convert, (149,37), interpolation = cv2.INTER_AREA)\n",
    "            gambar_flat=[mata.flatten()]\n",
    "            prediksi= model.predict(gambar_flat)\n",
    "            cv2.putText(frame, f\"{class_names[prediksi[0]]}\", (20, 30), cv2.FONT_HERSHEY_SIMPLEX, 1, (0, 0, 255),2)\n",
    "        \n",
    "        fps_counter += 1\n",
    "        if (time.time() - fps_start_time) > 1:\n",
    "            fps = fps_counter / (time.time() - fps_start_time)\n",
    "            fps_counter = 0\n",
    "            fps_start_time = time.time()\n",
    "\n",
    "        cv2.putText(frame, f\"FPS : {round(fps, 2)}\", (frame.shape[1] - 200, 30), cv2.FONT_HERSHEY_SIMPLEX, 1, (0, 0, 255), 2)\n",
    "        cv2.imshow(\"Video Original\" , frame)\n",
    "        \n",
    "    else:\n",
    "        print('no video')\n",
    "        cap.set(cv2.CAP_PROP_POS_FRAMES, 0)\n",
    "        continue\n",
    "\n",
    "    if cv2.waitKey(1) & 0xFF == ord('q'):\n",
    "        break\n",
    "    \n",
    "cap.release()\n",
    "cv2.destroyAllWindows()\n",
    "cv2.waitKey(1)"
   ]
  }
 ],
 "metadata": {
  "kernelspec": {
   "display_name": "YOLO",
   "language": "python",
   "name": "python3"
  },
  "language_info": {
   "codemirror_mode": {
    "name": "ipython",
    "version": 3
   },
   "file_extension": ".py",
   "mimetype": "text/x-python",
   "name": "python",
   "nbconvert_exporter": "python",
   "pygments_lexer": "ipython3",
   "version": "3.10.12"
  }
 },
 "nbformat": 4,
 "nbformat_minor": 2
}
