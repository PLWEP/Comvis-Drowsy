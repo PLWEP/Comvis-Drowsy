{
 "cells": [
  {
   "cell_type": "code",
   "execution_count": null,
   "metadata": {},
   "outputs": [],
   "source": [
    "import cv2\n",
    "from tqdm import tqdm\n",
    "import os"
   ]
  },
  {
   "cell_type": "code",
   "execution_count": null,
   "metadata": {},
   "outputs": [],
   "source": [
    "face_cascade = cv2.CascadeClassifier(cv2.data.haarcascades + 'haarcascade_frontalface_default.xml')"
   ]
  },
  {
   "cell_type": "code",
   "execution_count": null,
   "metadata": {},
   "outputs": [],
   "source": [
    "for path, subdirs, files in os.walk('Original video/'):\n",
    "    for name in tqdm(files) :\n",
    "        video_path = os.path.join(path, name)\n",
    "        cap = cv2.VideoCapture(video_path)\n",
    "        ret, frame = cap.read()\n",
    "        H, W, _ = frame.shape\n",
    "\n",
    "        output_folder = \"haarcascade/\" + path.split('/')[-1]\n",
    "        file_name = name + \".mp4\"\n",
    "        os.makedirs(output_folder, exist_ok=True)\n",
    "\n",
    "        out = cv2.VideoWriter(os.path.join(output_folder, file_name), cv2.VideoWriter_fourcc(*'MP4V'), int(cap.get(cv2.CAP_PROP_FPS)), (512, 512))\n",
    "\n",
    "        while ret:\n",
    "            gray = cv2.cvtColor(frame, cv2.COLOR_BGR2GRAY)\n",
    "            faces = face_cascade.detectMultiScale(gray, scaleFactor=1.5, minNeighbors=5)\n",
    "            \n",
    "            try :\n",
    "                x, y, w, h = faces[0]\n",
    "                face_roi = frame[y:y+h, x:x+w]\n",
    "                muka = cv2.resize(face_roi, (512,512))\n",
    "\n",
    "                out.write(muka)\n",
    "            \n",
    "            except :\n",
    "                pass\n",
    "\n",
    "            ret, frame = cap.read()\n",
    "\n",
    "        cap.release()\n",
    "        out.release()"
   ]
  }
 ],
 "metadata": {
  "language_info": {
   "name": "python"
  }
 },
 "nbformat": 4,
 "nbformat_minor": 2
}
