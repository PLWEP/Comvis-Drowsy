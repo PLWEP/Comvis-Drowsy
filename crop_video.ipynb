{
 "cells": [
  {
   "cell_type": "code",
   "execution_count": null,
   "metadata": {},
   "outputs": [],
   "source": [
    "import cv2\n",
    "import os\n",
    "from tqdm import tqdm"
   ]
  },
  {
   "cell_type": "code",
   "execution_count": null,
   "metadata": {},
   "outputs": [],
   "source": [
    "for path, subdirs, files in os.walk('haarcascade/'):\n",
    "    for name in tqdm(files) :\n",
    "        video_path = os.path.join(path, name)\n",
    "        cap = cv2.VideoCapture(video_path)\n",
    "        ret, frame = cap.read()\n",
    "        H, W, _ = frame.shape\n",
    "\n",
    "        output_folder = \"haarcascade cropped/\" + video_path[:-4]\n",
    "        os.makedirs(output_folder, exist_ok=True)\n",
    "\n",
    "        if not cap.isOpened():\n",
    "            print(\"Error: Gagal membuka video.\")\n",
    "            exit()\n",
    "\n",
    "        frame_count = int(cap.get(cv2.CAP_PROP_FRAME_COUNT))\n",
    "        fps = int(cap.get(cv2.CAP_PROP_FPS))\n",
    "\n",
    "        target_duration = 5\n",
    "        video_count = 1\n",
    "\n",
    "        current_duration = 0\n",
    "        output_video = None\n",
    "        frame_list = []\n",
    "\n",
    "        while ret:\n",
    "            if not ret:\n",
    "                break\n",
    "\n",
    "            frame_list.append(frame)\n",
    "            current_duration += 1 / fps\n",
    "\n",
    "            if current_duration >= target_duration:\n",
    "                output_video = cv2.VideoWriter(f'{output_folder}/output_video_{video_count}.mp4', cv2.VideoWriter_fourcc(*'MP4V'), fps, (W, H))\n",
    "                for frame in frame_list:\n",
    "                    output_video.write(frame)\n",
    "                output_video.release()\n",
    "                video_count += 1\n",
    "                current_duration = 0\n",
    "                frame_list = []\n",
    "\n",
    "            ret, frame = cap.read()\n",
    "\n",
    "        if current_duration > 0:\n",
    "            output_video = cv2.VideoWriter(f'{output_folder}/output_video_{video_count}.mp4', cv2.VideoWriter_fourcc(*'MP4V'), fps, (W, H))\n",
    "            for frame in frame_list:\n",
    "                    output_video.write(frame)\n",
    "                    \n",
    "            frames_to_add = int((target_duration - current_duration) * fps)\n",
    "            for i in range(frames_to_add):\n",
    "                output_video.write(frame_list[-1])\n",
    "                \n",
    "            output_video.release()\n",
    "            video_count += 1\n",
    "            current_duration = 0\n",
    "            frame_list = []\n",
    "\n",
    "        video_count = 0\n",
    "        cap.release()"
   ]
  }
 ],
 "metadata": {
  "language_info": {
   "name": "python"
  }
 },
 "nbformat": 4,
 "nbformat_minor": 2
}
