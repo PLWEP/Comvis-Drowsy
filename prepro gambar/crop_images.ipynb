{
 "cells": [
  {
   "cell_type": "code",
   "execution_count": 18,
   "metadata": {},
   "outputs": [],
   "source": [
    "import cv2\n",
    "import os\n",
    "from tqdm import tqdm\n",
    "import time"
   ]
  },
  {
   "cell_type": "code",
   "execution_count": 8,
   "metadata": {},
   "outputs": [
    {
     "data": {
      "text/plain": [
       "'\\nLabel\\n- label 1 : mulut\\n- label 2 : mata kanan objek\\n- label 3 : mata kiri objek\\n- label 4 : kedua mata\\n'"
      ]
     },
     "execution_count": 8,
     "metadata": {},
     "output_type": "execute_result"
    }
   ],
   "source": [
    "\"\"\"\n",
    "Label\n",
    "- label 1 : mulut\n",
    "- label 2 : mata kanan objek\n",
    "- label 3 : mata kiri objek\n",
    "- label 4 : kedua mata\n",
    "\"\"\""
   ]
  },
  {
   "cell_type": "code",
   "execution_count": 21,
   "metadata": {},
   "outputs": [],
   "source": [
    "labels_folder = \"../dataset sinta haar/labels/\"\n",
    "images_folder = \"../dataset sinta haar/images/\""
   ]
  },
  {
   "cell_type": "code",
   "execution_count": 22,
   "metadata": {},
   "outputs": [
    {
     "name": "stderr",
     "output_type": "stream",
     "text": [
      "0it [00:00, ?it/s]"
     ]
    },
    {
     "name": "stderr",
     "output_type": "stream",
     "text": [
      "\n",
      "100%|██████████| 17312/17312 [06:18<00:00, 45.69it/s]\n",
      "100%|██████████| 14350/14350 [03:53<00:00, 61.42it/s]"
     ]
    },
    {
     "name": "stdout",
     "output_type": "stream",
     "text": [
      "00:10:12.61\n",
      "0\n"
     ]
    },
    {
     "name": "stderr",
     "output_type": "stream",
     "text": [
      "\n"
     ]
    }
   ],
   "source": [
    "start = time.time()\n",
    "error = 0\n",
    "\n",
    "for path, subdirs, files in os.walk(labels_folder):\n",
    "    for name in tqdm(files) :\n",
    "        path_parts = path.split('/')\n",
    "        label = path_parts[-1]\n",
    "\n",
    "        label_file = os.path.join(path, name)\n",
    "        image_file = os.path.join(images_folder, label, name[:-4]+\".png\")\n",
    "        # image_file = os.path.join(images_folder, name[:-4]+\".png\")\n",
    "        \n",
    "        # Buat gambar kosong\n",
    "        image_file = cv2.imread(image_file)\n",
    "        image_height, image_width, _ = image_file.shape\n",
    "\n",
    "        # Buka file untuk membaca\n",
    "        with open(label_file, 'r') as file:\n",
    "            lines = file.readlines()\n",
    "\n",
    "        # Loop melalui setiap baris dalam file\n",
    "        for line in lines:\n",
    "            label_file, x, y, w, h = line.split()\n",
    "            x, y, w, h = float(x), float(y), float(w), float(h)\n",
    "\n",
    "            # Hitung koordinat sudut kiri atas dan kanan bawah bounding box\n",
    "            x1 = int((x - w / 2) * image_file.shape[1])\n",
    "            y1 = int((y - h / 2) * image_file.shape[0])\n",
    "            x2 = int((x + w / 2) * image_file.shape[1])\n",
    "            y2 = int((y + h / 2) * image_file.shape[0])\n",
    "\n",
    "            roi = image_file[y1:y2, x1:x2]\n",
    "\n",
    "            if label_file == \"1\" :\n",
    "                folder_name = f\"../dataset sinta haar/mouth/{label}\"\n",
    "            elif label_file == \"2\" :\n",
    "                folder_name = f\"../dataset sinta haar/right eye/{label}\"\n",
    "            if label_file == \"3\" :\n",
    "                folder_name = f\"../dataset sinta haar/left eye/{label}\"\n",
    "            if label_file == \"4\" :\n",
    "                folder_name = f\"../dataset sinta haar/both eyes/{label}\"\n",
    "\n",
    "            os.makedirs(folder_name, exist_ok=True)\n",
    "\n",
    "            try :\n",
    "                cv2.imwrite(os.path.join(folder_name, f\"{name[:-4]}.png\"), roi)\n",
    "            except :\n",
    "                error += 1\n",
    "\n",
    "end = time.time()\n",
    "hours, rem = divmod(end-start, 3600)\n",
    "minutes, seconds = divmod(rem, 60)\n",
    "print(\"{:0>2}:{:0>2}:{:05.2f}\".format(int(hours),int(minutes),seconds))\n",
    "\n",
    "print(error)"
   ]
  }
 ],
 "metadata": {
  "kernelspec": {
   "display_name": "YOLO",
   "language": "python",
   "name": "python3"
  },
  "language_info": {
   "codemirror_mode": {
    "name": "ipython",
    "version": 3
   },
   "file_extension": ".py",
   "mimetype": "text/x-python",
   "name": "python",
   "nbconvert_exporter": "python",
   "pygments_lexer": "ipython3",
   "version": "3.10.12"
  }
 },
 "nbformat": 4,
 "nbformat_minor": 2
}
