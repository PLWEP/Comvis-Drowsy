{
 "cells": [
  {
   "cell_type": "code",
   "execution_count": 13,
   "metadata": {},
   "outputs": [],
   "source": [
    "import cv2\n",
    "import os\n",
    "from tqdm import tqdm"
   ]
  },
  {
   "cell_type": "code",
   "execution_count": 14,
   "metadata": {},
   "outputs": [
    {
     "data": {
      "text/plain": [
       "'\\nLabel\\n- label 1 : mulut\\n- label 2 : mata kanan objek\\n- label 3 : mata kiri objek\\n- label 4 : kedua mata\\n'"
      ]
     },
     "execution_count": 14,
     "metadata": {},
     "output_type": "execute_result"
    }
   ],
   "source": [
    "\"\"\"\n",
    "Label\n",
    "- label 1 : mulut\n",
    "- label 2 : mata kanan objek\n",
    "- label 3 : mata kiri objek\n",
    "- label 4 : kedua mata\n",
    "\"\"\""
   ]
  },
  {
   "cell_type": "code",
   "execution_count": 15,
   "metadata": {},
   "outputs": [],
   "source": [
    "labels_folder = \"dataset sinta/labels\"\n",
    "images_folder = \"dataset sinta/images\""
   ]
  },
  {
   "cell_type": "code",
   "execution_count": 17,
   "metadata": {},
   "outputs": [
    {
     "name": "stderr",
     "output_type": "stream",
     "text": [
      "0it [00:00, ?it/s]\n",
      "100%|██████████| 17690/17690 [04:44<00:00, 62.15it/s]\n",
      "100%|██████████| 15101/15101 [04:42<00:00, 53.40it/s]\n"
     ]
    }
   ],
   "source": [
    "for path, subdirs, files in os.walk(labels_folder):\n",
    "    for name in tqdm(files) :\n",
    "        path_parts = path.split('\\\\')\n",
    "        label = path_parts[-1]\n",
    "\n",
    "        label_file = os.path.join(path, name)\n",
    "        image_file = os.path.join(images_folder, label, name[:-4]+\".png\")\n",
    "        \n",
    "        # Buat gambar kosong\n",
    "        image_file = cv2.imread(image_file)\n",
    "        image_height, image_width, _ = image_file.shape\n",
    "\n",
    "        # Buka file untuk membaca\n",
    "        with open(label_file, 'r') as file:\n",
    "            lines = file.readlines()\n",
    "\n",
    "        # Loop melalui setiap baris dalam file\n",
    "        for line in lines:\n",
    "            label_file, x, y, w, h = line.split()\n",
    "            x, y, w, h = float(x), float(y), float(w), float(h)\n",
    "\n",
    "            # Hitung koordinat sudut kiri atas dan kanan bawah bounding box\n",
    "            x1 = int((x - w / 2) * image_file.shape[1])\n",
    "            y1 = int((y - h / 2) * image_file.shape[0])\n",
    "            x2 = int((x + w / 2) * image_file.shape[1])\n",
    "            y2 = int((y + h / 2) * image_file.shape[0])\n",
    "\n",
    "            roi = image_file[y1:y2, x1:x2]\n",
    "\n",
    "            if label_file == \"1\" :\n",
    "                folder_name = f\"dataset sinta/mouth/{label}\"\n",
    "            elif label_file == \"2\" :\n",
    "                folder_name = f\"dataset sinta/right eye/{label}\"\n",
    "            if label_file == \"3\" :\n",
    "                folder_name = f\"dataset sinta/left eye/{label}\"\n",
    "            if label_file == \"4\" :\n",
    "                folder_name = f\"dataset sinta/both eyes/{label}\"\n",
    "\n",
    "            os.makedirs(folder_name, exist_ok=True)\n",
    "\n",
    "            cv2.imwrite(os.path.join(folder_name, f\"{name[:-4]}.png\"), roi)"
   ]
  }
 ],
 "metadata": {
  "kernelspec": {
   "display_name": "YOLO",
   "language": "python",
   "name": "python3"
  },
  "language_info": {
   "codemirror_mode": {
    "name": "ipython",
    "version": 3
   },
   "file_extension": ".py",
   "mimetype": "text/x-python",
   "name": "python",
   "nbconvert_exporter": "python",
   "pygments_lexer": "ipython3",
   "version": "3.10.12"
  }
 },
 "nbformat": 4,
 "nbformat_minor": 2
}
